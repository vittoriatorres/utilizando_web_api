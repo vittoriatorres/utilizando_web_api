{
 "cells": [
  {
   "cell_type": "markdown",
   "id": "9c947912",
   "metadata": {},
   "source": [
    "#### Explorando a Distância e Duração de Rotas com OpenRouteService\n",
    "Exploring Route Distance and Duration with OpenRouteService"
   ]
  },
  {
   "cell_type": "code",
   "execution_count": 20,
   "id": "f8930ff2",
   "metadata": {},
   "outputs": [],
   "source": [
    "# Importando Bibliotecas | Importing Libraries\n",
    "import requests\n",
    "import time\n",
    "import os\n",
    "from dotenv import load_dotenv"
   ]
  },
  {
   "cell_type": "code",
   "execution_count": 21,
   "id": "3e1e587c",
   "metadata": {},
   "outputs": [],
   "source": [
    "# Chave da API | API Key\n",
    "load_dotenv() # Lê e carrega variáveis de .env | # Reads and loads variables from .env\n",
    "api_key = os.getenv('ors_api_key')\n",
    "if not api_key:\n",
    "    raise ValueError(\"Chave de API não encontrada | API key not found\")\n",
    "\n",
    "# Para obter sua chave, visite https://account.heigit.org/manage/key e crie uma conta. \n",
    "# Assim que sua conta for ativada, vá para o seu Painel (Dashboard), copie a longa sequência de caracteres que aparece em Chave Básicaatribua a variável ors_api_key. (Basic Key) e a \n",
    "\n",
    "# To get your key, visit https://account.heigit.org/manage/key and create an account.\n",
    "# Once your account is activated, go to your Dashboard, copy the long string that appears under Basic Key, and assign it to the ors_api_key variable."
   ]
  },
  {
   "cell_type": "code",
   "execution_count": 22,
   "id": "9a6d8021",
   "metadata": {},
   "outputs": [],
   "source": [
    "# Função para calcular distância de carro entre origem e destino usando uma API\n",
    "# Function to calculate driving distance between origin and destination using an API\n",
    "\n",
    "def get_driving_distance(source_coords, dest_coords): # coordenadas devem estar em Graus Decimais | coordinates must be in Decimal Degrees (DD) \n",
    "    parameters = {\n",
    "        'api_key': api_key, # API Key\n",
    "        'start': '{},{}'.format(source_coords[1], source_coords[0]), \n",
    "        'end': '{},{}'.format(dest_coords[1], dest_coords[0])\n",
    "    }\n",
    "    response = requests.get(\n",
    "        'https://api.openrouteservice.org/v2/directions/driving-car', params=parameters)\n",
    "    \n",
    "    if response.status_code == 200:\n",
    "        data = response.json()\n",
    "        summary = data ['features'][0]['properties']['summary']\n",
    "        distance = summary['distance']\n",
    "        return distance/1000 # converte distância para km | converts distance to km\n",
    "    else:\n",
    "        print('Falha na solicitação | Request failed')\n",
    "        return -9999"
   ]
  },
  {
   "cell_type": "code",
   "execution_count": 23,
   "id": "69a129a4",
   "metadata": {},
   "outputs": [],
   "source": [
    "# Origem | Source\n",
    "source = (-22.890656, -43.123864) # Caminho Niemeyer, Niterói (RJ)\n",
    "\n",
    "# Destinos | Destination\n",
    "destination_cities = {\n",
    "    'Rio de Janeiro': (-22.9519, -43.2105), # Cristo Redentor, Rio de Janeiro (RJ)\n",
    "    'Petropolis': (-22.5050, -43.1812), # Palácio de Cristal, Petrópolis (RJ)\n",
    "    'Paraty': (-23.2195, -44.7170) # Casa da Cultura de Paraty, Paraty (RJ)\n",
    "}"
   ]
  },
  {
   "cell_type": "code",
   "execution_count": 24,
   "id": "aa3b65d6",
   "metadata": {},
   "outputs": [
    {
     "name": "stdout",
     "output_type": "stream",
     "text": [
      "Distância de carro para Rio de Janeiro: 33.78 km\n",
      "Driving distance to Rio de Janeiro: 33.78 km\n",
      "------------------------------\n",
      "Distância de carro para Petropolis: 75.62 km\n",
      "Driving distance to Petropolis: 75.62 km\n",
      "------------------------------\n",
      "Distância de carro para Paraty: 256.53 km\n",
      "Driving distance to Paraty: 256.53 km\n",
      "------------------------------\n",
      "\n",
      " --- Finalizado | Finish ---\n"
     ]
    }
   ],
   "source": [
    "# Calculando as distâncias | Calculatiing distances\n",
    "\n",
    "for city_name, coords in destination_cities.items():\n",
    "    distance_km = get_driving_distance (source, coords)\n",
    "    if distance_km != -9999:\n",
    "        print(f\"Distância de carro para {city_name}: {distance_km:.2f} km\")\n",
    "        print(f\"Driving distance to {city_name}: {distance_km:.2f} km\")\n",
    "    else:\n",
    "        print(f\"Não foi possível calcular a distância para {city_name}\")\n",
    "        print(f\"It wasn't possible to calculate distance to {city_name}\")\n",
    "    \n",
    "    if city_name != list(destination_cities.keys())[-1]:\n",
    "        time.sleep(2) # limitação de taxa | rate limit\n",
    "    print(\"-\" * 30)\n",
    "\n",
    "print (\"\\n --- Finalizado | Finish ---\")\n"
   ]
  }
 ],
 "metadata": {
  "kernelspec": {
   "display_name": "introgis_python",
   "language": "python",
   "name": "python3"
  },
  "language_info": {
   "codemirror_mode": {
    "name": "ipython",
    "version": 3
   },
   "file_extension": ".py",
   "mimetype": "text/x-python",
   "name": "python",
   "nbconvert_exporter": "python",
   "pygments_lexer": "ipython3",
   "version": "3.12.7"
  }
 },
 "nbformat": 4,
 "nbformat_minor": 5
}
